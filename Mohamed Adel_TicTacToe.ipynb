{
 "cells": [
  {
   "cell_type": "markdown",
   "metadata": {
    "id": "aAjb_hDyTKQh"
   },
   "source": [
    "# Tic Tac Toe Game \n",
    "##### Scratch Building\n",
    "##### No GUI Required "
   ]
  },
  {
   "cell_type": "markdown",
   "metadata": {
    "id": "NG1KZg4sTKQj"
   },
   "source": [
    "#### Some suggested tools before you get started:\n",
    "To take input from a user:\n",
    "\n",
    "    player1 = input(\"Please pick a marker 'X' or 'O'\")\n",
    "    \n",
    "Note that input() takes in a string. If you need an integer value, use\n",
    "\n",
    "    position = int(input('Please enter a number'))\n",
    "    \n",
    "<br>To clear the screen between moves:\n",
    "\n",
    "    from IPython.display import clear_output\n",
    "    clear_output()\n",
    "    \n",
    "Note that clear_output() will only work in jupyter. To clear the screen in other IDEs, consider:\n",
    "\n",
    "    print('\\n'*100)\n",
    "    \n",
    "This scrolls the previous board up out of view. Now on to the program!"
   ]
  },
  {
   "cell_type": "markdown",
   "metadata": {
    "id": "eq31aKoKTKQk"
   },
   "source": [
    "**Step 1: Write a function that can print out a board. Set up your board as a list, where each index 1-9 corresponds with a number on a number pad, so you get a 3 by 3 board representation.**"
   ]
  },
  {
   "cell_type": "code",
   "execution_count": 1,
   "metadata": {
    "id": "v6oZEXZXTKQl"
   },
   "outputs": [],
   "source": [
    "from IPython.display import clear_output\n",
    "\n",
    "def display_board(board):\n",
    "    clear_output\n",
    "    print (board[0],'|',board[1],'|',board[2])\n",
    "    print('------------')\n",
    "    print (board[3],'|',board[4],'|',board[5])\n",
    "    print('------------')\n",
    "    print (board[6],'|',board[7],'|',board[8])\n",
    "    print('------------')"
   ]
  },
  {
   "cell_type": "markdown",
   "metadata": {
    "id": "YE-nz_ETTKQo"
   },
   "source": [
    "**TEST Step 1:** run your function on a test version of the board list, and make adjustments as necessary"
   ]
  },
  {
   "cell_type": "code",
   "execution_count": 2,
   "metadata": {
    "colab": {
     "base_uri": "https://localhost:8080/",
     "height": 121
    },
    "id": "4iQ9D-u5TKQp",
    "outputId": "59ff7cb4-7211-4d99-f8bf-2ca4167db697"
   },
   "outputs": [
    {
     "name": "stdout",
     "output_type": "stream",
     "text": [
      "X | O | X\n",
      "------------\n",
      "O | X | O\n",
      "------------\n",
      "X | O | X\n",
      "------------\n"
     ]
    }
   ],
   "source": [
    "test_board = ['X','O','X','O','X','O','X','O','X']\n",
    "display_board(test_board)"
   ]
  },
  {
   "cell_type": "markdown",
   "metadata": {
    "id": "WxeUw0FhTKQr"
   },
   "source": [
    "**Step 2: Write a function that can take in a player input and assign their marker as 'X' or 'O'. Think about using *while* loops to continually ask until you get a correct answer.**"
   ]
  },
  {
   "cell_type": "code",
   "execution_count": 3,
   "metadata": {
    "id": "MG0XC4aXTKQs"
   },
   "outputs": [],
   "source": [
    "def player_input():\n",
    "    marker=''\n",
    "    while marker!='X' and marker!='O':\n",
    "        marker=input(\"Please pick a marker 'X' or 'O' \\n\").upper()\n",
    "        if marker=='X':\n",
    "            return ('X','O')\n",
    "        elif marker=='O':\n",
    "            return ('O','X')\n",
    "        else:\n",
    "            print('That is not right \\n')\n",
    "            continue"
   ]
  },
  {
   "cell_type": "markdown",
   "metadata": {
    "id": "6fVimbgzTKQu"
   },
   "source": [
    "**TEST Step 2:** run the function to make sure it returns the desired output"
   ]
  },
  {
   "cell_type": "code",
   "execution_count": 4,
   "metadata": {
    "id": "PJSO5QX1TKQu"
   },
   "outputs": [
    {
     "name": "stdout",
     "output_type": "stream",
     "text": [
      "Please pick a marker 'X' or 'O' \n",
      "j\n",
      "That is not right \n",
      "\n",
      "Please pick a marker 'X' or 'O' \n",
      "x\n"
     ]
    },
    {
     "data": {
      "text/plain": [
       "('X', 'O')"
      ]
     },
     "execution_count": 4,
     "metadata": {},
     "output_type": "execute_result"
    }
   ],
   "source": [
    "player_input()"
   ]
  },
  {
   "cell_type": "markdown",
   "metadata": {
    "id": "aQN1q9gGTKQw"
   },
   "source": [
    "**Step 3: Write a function that takes in the board list object, a marker ('X' or 'O'), and a desired position (number 1-9) and assigns it to the board.**"
   ]
  },
  {
   "cell_type": "code",
   "execution_count": 5,
   "metadata": {
    "id": "drK45WDaTKQx"
   },
   "outputs": [],
   "source": [
    "def place_marker(board, marker, position):\n",
    "    board[position]=marker"
   ]
  },
  {
   "cell_type": "markdown",
   "metadata": {
    "id": "gapk660ATKQz"
   },
   "source": [
    "**TEST Step 3:** run the place marker function using test parameters and display the modified board"
   ]
  },
  {
   "cell_type": "code",
   "execution_count": 6,
   "metadata": {
    "id": "4vIDyBjrTKQ0"
   },
   "outputs": [
    {
     "name": "stdout",
     "output_type": "stream",
     "text": [
      "X | O | X\n",
      "------------\n",
      "O | X | O\n",
      "------------\n",
      "X | O | $\n",
      "------------\n"
     ]
    }
   ],
   "source": [
    "place_marker(test_board,'$',8)\n",
    "display_board(test_board)"
   ]
  },
  {
   "cell_type": "markdown",
   "metadata": {
    "id": "vRuvrYsVTKQ2"
   },
   "source": [
    "**Step 4: Write a function that takes in a board and a mark (X or O) and then checks to see if that mark has won. **"
   ]
  },
  {
   "cell_type": "code",
   "execution_count": 7,
   "metadata": {
    "id": "Zl_L_t1xTKQ2"
   },
   "outputs": [],
   "source": [
    "def win_check(board, mark):\n",
    "    return ((board[0] == mark and board[1] == mark and board[2] == mark) or # across horizontals\n",
    "    (board[3] == mark and board[4] == mark and board[5] == mark) or \n",
    "    (board[6] == mark and board[7] == mark and board[8] == mark) or \n",
    "    (board[0] == mark and board[3] == mark and board[6] == mark) or # down verticals\n",
    "    (board[1] == mark and board[4] == mark and board[7] == mark) or \n",
    "    (board[2] == mark and board[5] == mark and board[8] == mark) or \n",
    "    (board[0] == mark and board[4] == mark and board[8] == mark) or # diagonals\n",
    "    (board[2] == mark and board[4] == mark and board[6] == mark))\n",
    "    "
   ]
  },
  {
   "cell_type": "markdown",
   "metadata": {
    "id": "D9tY6vCHTKQ4"
   },
   "source": [
    "**TEST Step 4:** run the win_check function against our test_board - it should return True"
   ]
  },
  {
   "cell_type": "code",
   "execution_count": 8,
   "metadata": {
    "id": "W_rBIIOCTKQ5"
   },
   "outputs": [
    {
     "data": {
      "text/plain": [
       "True"
      ]
     },
     "execution_count": 8,
     "metadata": {},
     "output_type": "execute_result"
    }
   ],
   "source": [
    "win_check(test_board,'X')"
   ]
  },
  {
   "cell_type": "markdown",
   "metadata": {
    "id": "ROj56ItpTKQ7"
   },
   "source": [
    "**Step 5: Write a function that uses the random module to randomly decide which player goes first. You may want to lookup random.randint() Return a string of which player went first.**"
   ]
  },
  {
   "cell_type": "code",
   "execution_count": 9,
   "metadata": {
    "id": "NMgrAjU3TKQ7"
   },
   "outputs": [],
   "source": [
    "from random import randint\n",
    "\n",
    "def choose_first():\n",
    "    if randint(0, 1) == 0:\n",
    "        return 'Player_1'\n",
    "    else:\n",
    "        return 'Player_2'"
   ]
  },
  {
   "cell_type": "markdown",
   "metadata": {
    "id": "7H1uXKU-TKQ9"
   },
   "source": [
    "**Step 6: Write a function that returns a boolean indicating whether a space on the board is freely available.**"
   ]
  },
  {
   "cell_type": "code",
   "execution_count": 10,
   "metadata": {
    "id": "i0rtv4b3TKQ-"
   },
   "outputs": [],
   "source": [
    "def space_check(board, position):\n",
    "    if board[position]==' ':\n",
    "        return True\n",
    "    else:\n",
    "        False"
   ]
  },
  {
   "cell_type": "markdown",
   "metadata": {
    "id": "TKfVJE_KTKRA"
   },
   "source": [
    "**Step 7: Write a function that checks if the board is full and returns a boolean value. True if full, False otherwise.**"
   ]
  },
  {
   "cell_type": "code",
   "execution_count": 16,
   "metadata": {
    "id": "Vsa0TroYTKRB"
   },
   "outputs": [],
   "source": [
    "def full_board_check(board):\n",
    "    for i in range(9):\n",
    "        if space_check(board,i):\n",
    "            return False\n",
    "    return True "
   ]
  },
  {
   "cell_type": "markdown",
   "metadata": {
    "id": "ju-R3rRATKRD"
   },
   "source": [
    "**Step 8: Write a function that asks for a player's next position (as a number 1-9) and then uses the function from step 6 to check if it's a free position. If it is, then return the position for later use.**"
   ]
  },
  {
   "cell_type": "code",
   "execution_count": 12,
   "metadata": {
    "id": "zLusZVZETKRE"
   },
   "outputs": [],
   "source": [
    "def player_choice(board):\n",
    "    next_pos=0\n",
    "    next_pos=int(input('choose a number (1-9): '))-1\n",
    "    if space_check(board,next_pos):\n",
    "        return next_pos"
   ]
  },
  {
   "cell_type": "markdown",
   "metadata": {
    "id": "E9ryWxTdTKRG"
   },
   "source": [
    "**Step 9: Write a function that asks the player if they want to play again and returns a boolean True if they do want to play again.**"
   ]
  },
  {
   "cell_type": "code",
   "execution_count": 13,
   "metadata": {
    "id": "1_Nt3ngsTKRG"
   },
   "outputs": [],
   "source": [
    "def replay():\n",
    "    playagain=input('Do you want to play again (enter y or n)?\\n')\n",
    "    if playagain=='y':\n",
    "        return True\n",
    "    else:\n",
    "        False"
   ]
  },
  {
   "cell_type": "markdown",
   "metadata": {
    "collapsed": true,
    "id": "gjLdHz0MTKRI"
   },
   "source": [
    "**Step 10: Here comes the hard part! Use while loops and the functions you've made to run the game!**"
   ]
  },
  {
   "cell_type": "code",
   "execution_count": 18,
   "metadata": {
    "id": "84vKO9k9TKRJ"
   },
   "outputs": [
    {
     "name": "stdout",
     "output_type": "stream",
     "text": [
      "Welcome to Tic Tac Toe!\n",
      "Please pick a marker 'X' or 'O' \n",
      "x\n",
      "Player_2 will go first.\n",
      "Are you ready to play? (y or n)\n",
      "y\n",
      "  |   |  \n",
      "------------\n",
      "  |   |  \n",
      "------------\n",
      "  |   |  \n",
      "------------\n",
      "choose a number (1-9): 1\n",
      "O |   |  \n",
      "------------\n",
      "  |   |  \n",
      "------------\n",
      "  |   |  \n",
      "------------\n",
      "choose a number (1-9): 3\n",
      "O |   | X\n",
      "------------\n",
      "  |   |  \n",
      "------------\n",
      "  |   |  \n",
      "------------\n",
      "choose a number (1-9): 5\n",
      "O |   | X\n",
      "------------\n",
      "  | O |  \n",
      "------------\n",
      "  |   |  \n",
      "------------\n",
      "choose a number (1-9): 7\n",
      "O |   | X\n",
      "------------\n",
      "  | O |  \n",
      "------------\n",
      "X |   |  \n",
      "------------\n",
      "choose a number (1-9): 9\n",
      "Congratulations! You have won the game!\n",
      "Do you want to play again (enter y or n)?\n",
      "y\n",
      "Please pick a marker 'X' or 'O' \n",
      "o\n",
      "Player_1 will go first.\n",
      "Are you ready to play? (y or n)\n",
      "y\n",
      "  |   |  \n",
      "------------\n",
      "  |   |  \n",
      "------------\n",
      "  |   |  \n",
      "------------\n",
      "choose a number (1-9): 1\n",
      "X |   |  \n",
      "------------\n",
      "  |   |  \n",
      "------------\n",
      "  |   |  \n",
      "------------\n",
      "choose a number (1-9): 2\n",
      "X | O |  \n",
      "------------\n",
      "  |   |  \n",
      "------------\n",
      "  |   |  \n",
      "------------\n",
      "choose a number (1-9): 4\n",
      "X | O |  \n",
      "------------\n",
      "X |   |  \n",
      "------------\n",
      "  |   |  \n",
      "------------\n",
      "choose a number (1-9): 7\n",
      "X | O |  \n",
      "------------\n",
      "X |   |  \n",
      "------------\n",
      "O |   |  \n",
      "------------\n",
      "choose a number (1-9): 5\n",
      "X | O |  \n",
      "------------\n",
      "X | X |  \n",
      "------------\n",
      "O |   |  \n",
      "------------\n",
      "choose a number (1-9): 9\n",
      "X | O |  \n",
      "------------\n",
      "X | X |  \n",
      "------------\n",
      "O |   | O\n",
      "------------\n",
      "choose a number (1-9): 3\n",
      "X | O | X\n",
      "------------\n",
      "X | X |  \n",
      "------------\n",
      "O |   | O\n",
      "------------\n",
      "choose a number (1-9): 6\n",
      "X | O | X\n",
      "------------\n",
      "X | X | O\n",
      "------------\n",
      "O |   | O\n",
      "------------\n",
      "choose a number (1-9): 8\n",
      "The game is a draw!\n",
      "Do you want to play again (enter y or n)?\n",
      "n\n"
     ]
    }
   ],
   "source": [
    "\n",
    "print('Welcome to Tic Tac Toe!')\n",
    "\n",
    "\n",
    "while True:\n",
    "    \n",
    "    # Reset the board\n",
    "    the_board=[' ']*9\n",
    "    # Choose Markers\n",
    "    player_1,player_2= player_input()\n",
    "    # Who Starts First \n",
    "    turn = choose_first()\n",
    "    print(turn + ' will go first.')\n",
    "    \n",
    "    # Asking to Start or  End The Game\n",
    "    play_game= input('Are you ready to play? (y or n)\\n')\n",
    "    game=''\n",
    "    \n",
    "    if play_game=='y':\n",
    "        game=True\n",
    "    else:\n",
    "        game=False\n",
    "     \n",
    "    while game:\n",
    "        if turn == 'Player 1':\n",
    "            # Player1's turn.\n",
    "            # Display Board \n",
    "            display_board(the_board)\n",
    "            # Take His Action\n",
    "            place_position=player_choice(the_board)\n",
    "            place_marker(the_board,player_1,place_position)\n",
    "            # Did he Win\n",
    "            if  win_check(the_board,player_1):\n",
    "                print('Congratulations! You have won the game!')\n",
    "                break\n",
    "            else:\n",
    "                if full_board_check(the_board) :\n",
    "                    print('The game is a draw!')\n",
    "                    break\n",
    "                else:\n",
    "                    turn = 'Player 2'\n",
    "\n",
    "        else:\n",
    "            # Player1's turn.\n",
    "            # Display Board \n",
    "            display_board(the_board)\n",
    "            # Take His Action\n",
    "            place_position=player_choice(the_board)\n",
    "            place_marker(the_board,player_2,place_position)\n",
    "            # Did he Win\n",
    "            if  win_check(the_board,player_2):\n",
    "                print('Congratulations! You have won the game!')\n",
    "                break\n",
    "            else:\n",
    "                if full_board_check(the_board) :\n",
    "                    print('The game is a draw!')\n",
    "                    break\n",
    "                else:\n",
    "                    turn = 'Player 1'\n",
    "\n",
    "    # Replay ?\n",
    "    if not replay():\n",
    "        break"
   ]
  },
  {
   "cell_type": "markdown",
   "metadata": {
    "collapsed": true,
    "id": "V3AlA00FTKRL"
   },
   "source": [
    "## Good Job!"
   ]
  }
 ],
 "metadata": {
  "colab": {
   "name": "Copy of TicTacToe.ipynb",
   "provenance": []
  },
  "kernelspec": {
   "display_name": "Python 3",
   "language": "python",
   "name": "python3"
  },
  "language_info": {
   "codemirror_mode": {
    "name": "ipython",
    "version": 3
   },
   "file_extension": ".py",
   "mimetype": "text/x-python",
   "name": "python",
   "nbconvert_exporter": "python",
   "pygments_lexer": "ipython3",
   "version": "3.7.3"
  }
 },
 "nbformat": 4,
 "nbformat_minor": 1
}
